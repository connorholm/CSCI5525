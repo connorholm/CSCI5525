{
 "cells": [
  {
   "cell_type": "markdown",
   "metadata": {},
   "source": [
    "# Problem 3: Part B"
   ]
  },
  {
   "cell_type": "code",
   "execution_count": 72,
   "metadata": {},
   "outputs": [],
   "source": [
    "# imports\n",
    "import numpy as np\n",
    "from sklearn.datasets import load_breast_cancer, fetch_openml\n",
    "from sklearn.model_selection import train_test_split\n",
    "from sklearn.metrics import accuracy_score\n",
    "from sklearn.svm import SVC\n",
    "from tqdm import tqdm\n",
    "from sklearn.linear_model import SGDClassifier\n",
    "from sklearn.datasets import fetch_openml\n",
    "from sklearn.preprocessing import StandardScaler\n"
   ]
  },
  {
   "cell_type": "code",
   "execution_count": 73,
   "metadata": {},
   "outputs": [],
   "source": [
    "def smooth_hinge_loss(z):\n",
    "    return (np.maximum(0, 1 - z) ** 2)\n",
    "\n",
    "def gradient_w(x, y, w, b, C):\n",
    "    margin = y * (np.dot(w, x) + b)\n",
    "    if margin >= 1:\n",
    "        return np.zeros_like(w)\n",
    "    else:\n",
    "        return -2 * C * (1 - margin) * y * x\n",
    "\n",
    "def gradient_b(x, y, w, b, C):\n",
    "    margin = y * (np.dot(w, x) + b)\n",
    "    if margin >= 1:\n",
    "        return 0\n",
    "    else:\n",
    "        return -2 * C * (1 - margin) * y\n",
    "\n",
    "def obj_func(X, y, w, b, C):\n",
    "    hinge_losses = smooth_hinge_loss(y * (np.dot(X, w) + b))\n",
    "    return 0.5 * np.dot(w, w) + C * np.sum(hinge_losses)"
   ]
  },
  {
   "cell_type": "code",
   "execution_count": 74,
   "metadata": {},
   "outputs": [],
   "source": [
    "def gradient_descent(X, y, C, lr=0.1, max_iters=1000, tol=1e-5, beta=0.5, alpha=0.5):\n",
    "    N, d = X.shape\n",
    "    w = np.zeros(d)\n",
    "    b = 0\n",
    "    \n",
    "    for iteration in range(max_iters):\n",
    "        grad_w = np.zeros(d)\n",
    "        grad_b = 0\n",
    "        for i in range(N):\n",
    "            grad_w += gradient_w(X[i], y[i], w, b, C)\n",
    "            grad_b += gradient_b(X[i], y[i], w, b, C)\n",
    "        \n",
    "        grad_w += w\n",
    "        \n",
    "        # backtracking line search\n",
    "        step_size = lr\n",
    "        obj = obj_func(X, y, w, b, C)\n",
    "        while obj_func(X, y, w - step_size * grad_w, b - step_size * grad_b, C) > obj - alpha * step_size * (np.dot(grad_w, grad_w) + grad_b ** 2):\n",
    "            step_size *= beta\n",
    "        \n",
    "        # update parameters\n",
    "        w -= step_size * grad_w\n",
    "        b -= step_size * grad_b\n",
    "        \n",
    "        # check convergence\n",
    "        if np.linalg.norm(grad_w) < tol and abs(grad_b) < tol:\n",
    "            print(f\"Converged in {iteration} iterations.\")\n",
    "            break\n",
    "    \n",
    "    return w, b\n"
   ]
  },
  {
   "cell_type": "code",
   "execution_count": 75,
   "metadata": {},
   "outputs": [
    {
     "name": "stdout",
     "output_type": "stream",
     "text": [
      "SVC with C=0.0001 has accuracy: 0.9737\n",
      "SVC with C=0.1 has accuracy: 0.9649\n",
      "SVC with C=1 has accuracy: 0.9561\n",
      "SVC with C=10 has accuracy: 0.9561\n",
      "SVC with C=100 has accuracy: 0.9561\n",
      "Custom GD with C=0.0001 has accuracy: 0.9649\n",
      "Custom GD with C=0.1 has accuracy: 0.9649\n",
      "Custom GD with C=1 has accuracy: 0.9649\n",
      "Custom GD with C=10 has accuracy: 0.9649\n",
      "Custom GD with C=100 has accuracy: 0.9649\n"
     ]
    }
   ],
   "source": [
    "data = load_breast_cancer()\n",
    "X = data.data\n",
    "y = data.target\n",
    "y[y == 0] = -1\n",
    "\n",
    "X_train, X_test, y_train, y_test = train_test_split(X, y, test_size=0.2, random_state=42)\n",
    "\n",
    "C_values = [0.0001, 0.1, 1, 10, 100]\n",
    "\n",
    "# run gradient descent using sklearn\n",
    "for C in C_values:\n",
    "    svc = SVC(C=C, kernel='linear')\n",
    "    svc.fit(X_train, y_train)\n",
    "    \n",
    "    y_pred = svc.predict(X_test)\n",
    "    \n",
    "    accuracy = accuracy_score(y_test, y_pred)\n",
    "    print(f\"SVC with C={C} has accuracy: {accuracy:.4f}\")\n",
    "\n",
    "# run custom gradient descent\n",
    "for C in C_values:\n",
    "    w_opt, b_opt = gradient_descent(X_train, y_train, C)\n",
    "    \n",
    "    # Make predictions\n",
    "    y_pred = np.sign(np.dot(X_test, w_opt) + b_opt)\n",
    "    \n",
    "    accuracy = accuracy_score(y_test, y_pred)\n",
    "    print(f\"Custom GD with C={C} has accuracy: {accuracy:.4f}\")\n"
   ]
  },
  {
   "cell_type": "markdown",
   "metadata": {},
   "source": [
    "# Problem 3: Part C\n",
    "\n",
    "Mini-Batch Stoachastic Gradient Descent"
   ]
  },
  {
   "cell_type": "code",
   "execution_count": 76,
   "metadata": {},
   "outputs": [],
   "source": [
    "def rbf_kernel(X, Z, gamma=0.05):\n",
    "    X_norm = np.sum(X**2, axis=1).reshape(-1, 1)\n",
    "    Z_norm = np.sum(Z**2, axis=1).reshape(1, -1)\n",
    "    K = np.exp(-gamma * (X_norm + Z_norm - 2 * np.dot(X, Z.T)))\n",
    "    return K\n",
    "\n",
    "def smooth_hinge_loss(z):\n",
    "    return (np.maximum(0, 1 - z) ** 2)\n",
    "\n",
    "def smooth_hinge_loss_grad(z):\n",
    "    return np.where(z < 1, -2 * (1 - z), 0)\n",
    "\n",
    "def gradient_alpha(alpha, y, K, batch_indices, f_batch, C):\n",
    "    N = len(batch_indices)\n",
    "    grad_alpha = np.zeros(N)\n",
    "    \n",
    "    for k in range(N):\n",
    "        # regularization term\n",
    "        grad_alpha[i] = np.sum(alpha * y * K[i, :])\n",
    "\n",
    "        # loss term\n",
    "        for i, idx in enumerate(batch_indices):\n",
    "            margin = y[idx] * f_batch[i]\n",
    "            grad_alpha[k] += 2 * C / len(batch_indices) * smooth_hinge_loss_grad(margin) * y[idx] * y[k] * K[k, idx]\n",
    "\n",
    "    return grad_alpha\n",
    "        \n",
    "\n",
    "def gradient_b(y, batch_indices, f_batch, C):\n",
    "    grad_b = 0\n",
    "    for i, idx in enumerate(batch_indices):\n",
    "        margin = y[idx] * f_batch[i]\n",
    "        grad_b += 2 * C / len(batch_indices) * smooth_hinge_loss_grad(margin) * y[idx]\n",
    "        \n",
    "    return grad_b\n"
   ]
  },
  {
   "cell_type": "code",
   "execution_count": 77,
   "metadata": {},
   "outputs": [],
   "source": [
    "def load_mnist_data(samples=5000):\n",
    "    # load MNIST\n",
    "    mnist = fetch_openml('mnist_784')\n",
    "    X = mnist.data.astype(np.float32)\n",
    "    y = mnist.target.astype(np.int8)\n",
    "\n",
    "    # convert to binary labels\n",
    "    y_binary = np.where(y < 5, 1, -1)\n",
    "\n",
    "    # reduce dataset size\n",
    "    X, _, y_binary, _ = train_test_split(X, y_binary, train_size=samples, stratify=y_binary, random_state=42)\n",
    "    X_train, X_test, y_train, y_test = train_test_split(X, y_binary, test_size=0.2, random_state=42)\n",
    "    \n",
    "    return X_train, X_test, y_train, y_test\n",
    "    \n",
    "    \n",
    "\n",
    "def stoacastic_gradient_descent_svm(X_train, y_train, C, lr=0.01, num_epochs=100, batch_size=32, gamma=0.05):\n",
    "    N = X_train.shape[0]\n",
    "    alpha = np.zeros(N)\n",
    "    b = 0\n",
    "    \n",
    "    for epoch in tqdm(range(num_epochs)):\n",
    "        # shuffle data\n",
    "        perm = np.random.permutation(N)\n",
    "        X_train = X_train[perm]\n",
    "        y_train = y_train[perm]\n",
    "        \n",
    "        for i in range(0, N, batch_size):\n",
    "            # mini-batch\n",
    "            X_batch = X_train[i:i+batch_size]\n",
    "            y_batch = y_train[i:i+batch_size]\n",
    "            \n",
    "            K = rbf_kernel(X_train, X_batch, gamma=gamma)  # K(X_train, X_batch)\n",
    "            f_batch = (alpha * y_train) @ K + b\n",
    "            \n",
    "            # squared hinge loss gradient\n",
    "            loss_gradient = np.maximum(0, 1 - y_batch * f_batch)\n",
    "            for j in range(len(X_batch)):\n",
    "                if loss_gradient[j] > 0:\n",
    "                    # update alpha\n",
    "                    alpha[i+j] += lr * C * (1 - y_batch[j] * f_batch[j])\n",
    "                    b += lr * C * y_batch[j]\n",
    "            \n",
    "        if epoch % 10 == 0:\n",
    "            print(f\"Epoch {epoch}/{num_epochs}: Loss = {np.mean(loss_gradient)}\")\n",
    "    \n",
    "    return alpha, b\n",
    "\n",
    "def predict(X_train, y_train, alpha, b, X_test, gamma=0.05):\n",
    "    return np.sign((alpha * y_train) @ rbf_kernel(X_train, X_test, gamma) + b)"
   ]
  },
  {
   "cell_type": "code",
   "execution_count": 78,
   "metadata": {},
   "outputs": [
    {
     "name": "stderr",
     "output_type": "stream",
     "text": [
      "  0%|          | 2/500 [00:00<01:09,  7.16it/s]"
     ]
    },
    {
     "name": "stdout",
     "output_type": "stream",
     "text": [
      "Epoch 0/500: Loss = 1.0628766070919822\n"
     ]
    },
    {
     "name": "stderr",
     "output_type": "stream",
     "text": [
      "  2%|▏         | 12/500 [00:01<01:05,  7.46it/s]"
     ]
    },
    {
     "name": "stdout",
     "output_type": "stream",
     "text": [
      "Epoch 10/500: Loss = 0.882855023953566\n"
     ]
    },
    {
     "name": "stderr",
     "output_type": "stream",
     "text": [
      "  4%|▍         | 22/500 [00:03<01:10,  6.76it/s]"
     ]
    },
    {
     "name": "stdout",
     "output_type": "stream",
     "text": [
      "Epoch 20/500: Loss = 0.7506697862095129\n"
     ]
    },
    {
     "name": "stderr",
     "output_type": "stream",
     "text": [
      "  6%|▋         | 32/500 [00:04<01:04,  7.30it/s]"
     ]
    },
    {
     "name": "stdout",
     "output_type": "stream",
     "text": [
      "Epoch 30/500: Loss = 0.7372347428222354\n"
     ]
    },
    {
     "name": "stderr",
     "output_type": "stream",
     "text": [
      "  8%|▊         | 42/500 [00:06<01:05,  6.98it/s]"
     ]
    },
    {
     "name": "stdout",
     "output_type": "stream",
     "text": [
      "Epoch 40/500: Loss = 0.6390137900008782\n"
     ]
    },
    {
     "name": "stderr",
     "output_type": "stream",
     "text": [
      " 10%|█         | 52/500 [00:07<01:03,  7.07it/s]"
     ]
    },
    {
     "name": "stdout",
     "output_type": "stream",
     "text": [
      "Epoch 50/500: Loss = 0.49923263654857586\n"
     ]
    },
    {
     "name": "stderr",
     "output_type": "stream",
     "text": [
      " 12%|█▏        | 62/500 [00:08<00:58,  7.44it/s]"
     ]
    },
    {
     "name": "stdout",
     "output_type": "stream",
     "text": [
      "Epoch 60/500: Loss = 0.46981431743771096\n"
     ]
    },
    {
     "name": "stderr",
     "output_type": "stream",
     "text": [
      " 14%|█▍        | 72/500 [00:10<01:06,  6.47it/s]"
     ]
    },
    {
     "name": "stdout",
     "output_type": "stream",
     "text": [
      "Epoch 70/500: Loss = 0.4574575119565012\n"
     ]
    },
    {
     "name": "stderr",
     "output_type": "stream",
     "text": [
      " 16%|█▋        | 82/500 [00:12<01:03,  6.60it/s]"
     ]
    },
    {
     "name": "stdout",
     "output_type": "stream",
     "text": [
      "Epoch 80/500: Loss = 0.45700980103421296\n"
     ]
    },
    {
     "name": "stderr",
     "output_type": "stream",
     "text": [
      " 18%|█▊        | 92/500 [00:13<01:01,  6.64it/s]"
     ]
    },
    {
     "name": "stdout",
     "output_type": "stream",
     "text": [
      "Epoch 90/500: Loss = 0.4611596617688455\n"
     ]
    },
    {
     "name": "stderr",
     "output_type": "stream",
     "text": [
      " 20%|██        | 102/500 [00:15<01:02,  6.38it/s]"
     ]
    },
    {
     "name": "stdout",
     "output_type": "stream",
     "text": [
      "Epoch 100/500: Loss = 0.4120102196365833\n"
     ]
    },
    {
     "name": "stderr",
     "output_type": "stream",
     "text": [
      " 22%|██▏       | 112/500 [00:16<00:54,  7.13it/s]"
     ]
    },
    {
     "name": "stdout",
     "output_type": "stream",
     "text": [
      "Epoch 110/500: Loss = 0.32642908613713073\n"
     ]
    },
    {
     "name": "stderr",
     "output_type": "stream",
     "text": [
      " 24%|██▍       | 122/500 [00:18<00:53,  7.06it/s]"
     ]
    },
    {
     "name": "stdout",
     "output_type": "stream",
     "text": [
      "Epoch 120/500: Loss = 0.3252110127690112\n"
     ]
    },
    {
     "name": "stderr",
     "output_type": "stream",
     "text": [
      " 26%|██▋       | 132/500 [00:19<00:57,  6.45it/s]"
     ]
    },
    {
     "name": "stdout",
     "output_type": "stream",
     "text": [
      "Epoch 130/500: Loss = 0.3103779403581942\n"
     ]
    },
    {
     "name": "stderr",
     "output_type": "stream",
     "text": [
      " 28%|██▊       | 142/500 [00:21<00:51,  7.01it/s]"
     ]
    },
    {
     "name": "stdout",
     "output_type": "stream",
     "text": [
      "Epoch 140/500: Loss = 0.3153532043433264\n"
     ]
    },
    {
     "name": "stderr",
     "output_type": "stream",
     "text": [
      " 30%|███       | 151/500 [00:22<00:54,  6.41it/s]"
     ]
    },
    {
     "name": "stdout",
     "output_type": "stream",
     "text": [
      "Epoch 150/500: Loss = 0.25640615591657134\n"
     ]
    },
    {
     "name": "stderr",
     "output_type": "stream",
     "text": [
      " 32%|███▏      | 161/500 [00:24<00:53,  6.32it/s]"
     ]
    },
    {
     "name": "stdout",
     "output_type": "stream",
     "text": [
      "Epoch 160/500: Loss = 0.2117594501210831\n"
     ]
    },
    {
     "name": "stderr",
     "output_type": "stream",
     "text": [
      " 34%|███▍      | 172/500 [00:26<00:50,  6.47it/s]"
     ]
    },
    {
     "name": "stdout",
     "output_type": "stream",
     "text": [
      "Epoch 170/500: Loss = 0.17606830233812332\n"
     ]
    },
    {
     "name": "stderr",
     "output_type": "stream",
     "text": [
      " 36%|███▋      | 182/500 [00:27<00:46,  6.81it/s]"
     ]
    },
    {
     "name": "stdout",
     "output_type": "stream",
     "text": [
      "Epoch 180/500: Loss = 0.16554159484173586\n"
     ]
    },
    {
     "name": "stderr",
     "output_type": "stream",
     "text": [
      " 38%|███▊      | 192/500 [00:29<00:45,  6.78it/s]"
     ]
    },
    {
     "name": "stdout",
     "output_type": "stream",
     "text": [
      "Epoch 190/500: Loss = 0.1114472494123044\n"
     ]
    },
    {
     "name": "stderr",
     "output_type": "stream",
     "text": [
      " 40%|████      | 202/500 [00:31<00:43,  6.84it/s]"
     ]
    },
    {
     "name": "stdout",
     "output_type": "stream",
     "text": [
      "Epoch 200/500: Loss = 0.15899780230733818\n"
     ]
    },
    {
     "name": "stderr",
     "output_type": "stream",
     "text": [
      " 42%|████▏     | 212/500 [00:32<00:41,  7.02it/s]"
     ]
    },
    {
     "name": "stdout",
     "output_type": "stream",
     "text": [
      "Epoch 210/500: Loss = 0.13375479734498874\n"
     ]
    },
    {
     "name": "stderr",
     "output_type": "stream",
     "text": [
      " 44%|████▍     | 222/500 [00:33<00:40,  6.88it/s]"
     ]
    },
    {
     "name": "stdout",
     "output_type": "stream",
     "text": [
      "Epoch 220/500: Loss = 0.11757770628389419\n"
     ]
    },
    {
     "name": "stderr",
     "output_type": "stream",
     "text": [
      " 46%|████▋     | 232/500 [00:35<00:38,  6.97it/s]"
     ]
    },
    {
     "name": "stdout",
     "output_type": "stream",
     "text": [
      "Epoch 230/500: Loss = 0.10222513785590615\n"
     ]
    },
    {
     "name": "stderr",
     "output_type": "stream",
     "text": [
      " 48%|████▊     | 242/500 [00:37<00:38,  6.74it/s]"
     ]
    },
    {
     "name": "stdout",
     "output_type": "stream",
     "text": [
      "Epoch 240/500: Loss = 0.08658425866632029\n"
     ]
    },
    {
     "name": "stderr",
     "output_type": "stream",
     "text": [
      " 50%|█████     | 252/500 [00:38<00:34,  7.22it/s]"
     ]
    },
    {
     "name": "stdout",
     "output_type": "stream",
     "text": [
      "Epoch 250/500: Loss = 0.09427695663382701\n"
     ]
    },
    {
     "name": "stderr",
     "output_type": "stream",
     "text": [
      " 52%|█████▏    | 262/500 [00:40<00:34,  6.84it/s]"
     ]
    },
    {
     "name": "stdout",
     "output_type": "stream",
     "text": [
      "Epoch 260/500: Loss = 0.10606605498978833\n"
     ]
    },
    {
     "name": "stderr",
     "output_type": "stream",
     "text": [
      " 54%|█████▍    | 272/500 [00:41<00:34,  6.57it/s]"
     ]
    },
    {
     "name": "stdout",
     "output_type": "stream",
     "text": [
      "Epoch 270/500: Loss = 0.062139283295882024\n"
     ]
    },
    {
     "name": "stderr",
     "output_type": "stream",
     "text": [
      " 56%|█████▋    | 282/500 [00:43<00:31,  7.01it/s]"
     ]
    },
    {
     "name": "stdout",
     "output_type": "stream",
     "text": [
      "Epoch 280/500: Loss = 0.08195359678780775\n"
     ]
    },
    {
     "name": "stderr",
     "output_type": "stream",
     "text": [
      " 58%|█████▊    | 292/500 [00:44<00:31,  6.55it/s]"
     ]
    },
    {
     "name": "stdout",
     "output_type": "stream",
     "text": [
      "Epoch 290/500: Loss = 0.055786887157832726\n"
     ]
    },
    {
     "name": "stderr",
     "output_type": "stream",
     "text": [
      " 60%|██████    | 302/500 [00:46<00:30,  6.60it/s]"
     ]
    },
    {
     "name": "stdout",
     "output_type": "stream",
     "text": [
      "Epoch 300/500: Loss = 0.10101920397950775\n"
     ]
    },
    {
     "name": "stderr",
     "output_type": "stream",
     "text": [
      " 62%|██████▏   | 312/500 [00:47<00:28,  6.50it/s]"
     ]
    },
    {
     "name": "stdout",
     "output_type": "stream",
     "text": [
      "Epoch 310/500: Loss = 0.09066252392518184\n"
     ]
    },
    {
     "name": "stderr",
     "output_type": "stream",
     "text": [
      " 64%|██████▍   | 322/500 [00:48<00:25,  6.92it/s]"
     ]
    },
    {
     "name": "stdout",
     "output_type": "stream",
     "text": [
      "Epoch 320/500: Loss = 0.06560357394947583\n"
     ]
    },
    {
     "name": "stderr",
     "output_type": "stream",
     "text": [
      " 66%|██████▋   | 332/500 [00:50<00:24,  6.80it/s]"
     ]
    },
    {
     "name": "stdout",
     "output_type": "stream",
     "text": [
      "Epoch 330/500: Loss = 0.07623923103639824\n"
     ]
    },
    {
     "name": "stderr",
     "output_type": "stream",
     "text": [
      " 68%|██████▊   | 342/500 [00:51<00:23,  6.77it/s]"
     ]
    },
    {
     "name": "stdout",
     "output_type": "stream",
     "text": [
      "Epoch 340/500: Loss = 0.10214144786339416\n"
     ]
    },
    {
     "name": "stderr",
     "output_type": "stream",
     "text": [
      " 70%|███████   | 352/500 [00:53<00:23,  6.37it/s]"
     ]
    },
    {
     "name": "stdout",
     "output_type": "stream",
     "text": [
      "Epoch 350/500: Loss = 0.043872754203843144\n"
     ]
    },
    {
     "name": "stderr",
     "output_type": "stream",
     "text": [
      " 72%|███████▏  | 362/500 [00:55<00:19,  7.13it/s]"
     ]
    },
    {
     "name": "stdout",
     "output_type": "stream",
     "text": [
      "Epoch 360/500: Loss = 0.055085023281346866\n"
     ]
    },
    {
     "name": "stderr",
     "output_type": "stream",
     "text": [
      " 74%|███████▍  | 372/500 [00:56<00:18,  7.07it/s]"
     ]
    },
    {
     "name": "stdout",
     "output_type": "stream",
     "text": [
      "Epoch 370/500: Loss = 0.11664076538460748\n"
     ]
    },
    {
     "name": "stderr",
     "output_type": "stream",
     "text": [
      " 76%|███████▋  | 382/500 [00:58<00:17,  6.77it/s]"
     ]
    },
    {
     "name": "stdout",
     "output_type": "stream",
     "text": [
      "Epoch 380/500: Loss = 0.02954765052473446\n"
     ]
    },
    {
     "name": "stderr",
     "output_type": "stream",
     "text": [
      " 78%|███████▊  | 392/500 [00:59<00:15,  7.16it/s]"
     ]
    },
    {
     "name": "stdout",
     "output_type": "stream",
     "text": [
      "Epoch 390/500: Loss = 0.04514325084125911\n"
     ]
    },
    {
     "name": "stderr",
     "output_type": "stream",
     "text": [
      " 80%|████████  | 402/500 [01:01<00:13,  7.14it/s]"
     ]
    },
    {
     "name": "stdout",
     "output_type": "stream",
     "text": [
      "Epoch 400/500: Loss = 0.12438328052627601\n"
     ]
    },
    {
     "name": "stderr",
     "output_type": "stream",
     "text": [
      " 82%|████████▏ | 412/500 [01:02<00:13,  6.76it/s]"
     ]
    },
    {
     "name": "stdout",
     "output_type": "stream",
     "text": [
      "Epoch 410/500: Loss = 0.02153041612213785\n"
     ]
    },
    {
     "name": "stderr",
     "output_type": "stream",
     "text": [
      " 84%|████████▍ | 422/500 [01:04<00:11,  6.93it/s]"
     ]
    },
    {
     "name": "stdout",
     "output_type": "stream",
     "text": [
      "Epoch 420/500: Loss = 0.027614415905269207\n"
     ]
    },
    {
     "name": "stderr",
     "output_type": "stream",
     "text": [
      " 86%|████████▋ | 432/500 [01:05<00:09,  6.98it/s]"
     ]
    },
    {
     "name": "stdout",
     "output_type": "stream",
     "text": [
      "Epoch 430/500: Loss = 0.0\n"
     ]
    },
    {
     "name": "stderr",
     "output_type": "stream",
     "text": [
      " 88%|████████▊ | 442/500 [01:07<00:08,  6.73it/s]"
     ]
    },
    {
     "name": "stdout",
     "output_type": "stream",
     "text": [
      "Epoch 440/500: Loss = 0.10083034806556707\n"
     ]
    },
    {
     "name": "stderr",
     "output_type": "stream",
     "text": [
      " 90%|█████████ | 452/500 [01:08<00:07,  6.67it/s]"
     ]
    },
    {
     "name": "stdout",
     "output_type": "stream",
     "text": [
      "Epoch 450/500: Loss = 0.0\n"
     ]
    },
    {
     "name": "stderr",
     "output_type": "stream",
     "text": [
      " 92%|█████████▏| 462/500 [01:09<00:05,  6.73it/s]"
     ]
    },
    {
     "name": "stdout",
     "output_type": "stream",
     "text": [
      "Epoch 460/500: Loss = 0.0\n"
     ]
    },
    {
     "name": "stderr",
     "output_type": "stream",
     "text": [
      " 94%|█████████▍| 472/500 [01:11<00:04,  6.73it/s]"
     ]
    },
    {
     "name": "stdout",
     "output_type": "stream",
     "text": [
      "Epoch 470/500: Loss = 0.0\n"
     ]
    },
    {
     "name": "stderr",
     "output_type": "stream",
     "text": [
      " 96%|█████████▋| 482/500 [01:12<00:02,  6.58it/s]"
     ]
    },
    {
     "name": "stdout",
     "output_type": "stream",
     "text": [
      "Epoch 480/500: Loss = 0.0\n"
     ]
    },
    {
     "name": "stderr",
     "output_type": "stream",
     "text": [
      " 98%|█████████▊| 492/500 [01:14<00:01,  6.77it/s]"
     ]
    },
    {
     "name": "stdout",
     "output_type": "stream",
     "text": [
      "Epoch 490/500: Loss = 0.0\n"
     ]
    },
    {
     "name": "stderr",
     "output_type": "stream",
     "text": [
      "100%|██████████| 500/500 [01:15<00:00,  6.63it/s]\n"
     ]
    },
    {
     "name": "stdout",
     "output_type": "stream",
     "text": [
      "Test Accuracy: 92.50%\n",
      "SGDClassifier Accuracy: 84.30%\n"
     ]
    }
   ],
   "source": [
    "def main():\n",
    "\n",
    "    # hyperparameters\n",
    "    C = 1\n",
    "    batch_size = 64\n",
    "    lr = 0.01\n",
    "    num_epochs = 500\n",
    "    gamma = 0.05\n",
    "\n",
    "    # load data\n",
    "    X_train, X_test, y_train, y_test = load_mnist_data()\n",
    "\n",
    "    # standardize dataset\n",
    "    scaler = StandardScaler()\n",
    "    X_train = scaler.fit_transform(X_train)\n",
    "    X_test = scaler.transform(X_test)\n",
    "    \n",
    "    # train model\n",
    "    alpha, b = stoacastic_gradient_descent_svm(X_train, y_train, C=C, batch_size=batch_size, lr=lr, num_epochs=num_epochs, gamma=gamma)\n",
    "    \n",
    "    # evaluate model\n",
    "    y_pred = predict(X_train, y_train, alpha, b, X_test, gamma=gamma)\n",
    "    accuracy = accuracy_score(y_test, y_pred)\n",
    "    print(f\"Test Accuracy: {accuracy * 100:.2f}%\")\n",
    "\n",
    "    # evaluate against sklearn\n",
    "    sgd_clf = SGDClassifier(loss='hinge', alpha=1/1, max_iter=1000, tol=1e-3)\n",
    "    sgd_clf.fit(X_train, y_train)\n",
    "    y_pred_sgd = sgd_clf.predict(X_test)\n",
    "    accuracy_sgd = accuracy_score(y_test, y_pred_sgd)\n",
    "    print(f\"SGDClassifier Accuracy: {accuracy_sgd * 100:.2f}%\")\n",
    "\n",
    "main()"
   ]
  },
  {
   "cell_type": "code",
   "execution_count": null,
   "metadata": {},
   "outputs": [],
   "source": []
  }
 ],
 "metadata": {
  "kernelspec": {
   "display_name": "comp_vis",
   "language": "python",
   "name": "python3"
  },
  "language_info": {
   "codemirror_mode": {
    "name": "ipython",
    "version": 3
   },
   "file_extension": ".py",
   "mimetype": "text/x-python",
   "name": "python",
   "nbconvert_exporter": "python",
   "pygments_lexer": "ipython3",
   "version": "3.12.7"
  }
 },
 "nbformat": 4,
 "nbformat_minor": 2
}
